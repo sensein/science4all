{
  "nbformat": 4,
  "nbformat_minor": 0,
  "metadata": {
    "colab": {
      "name": "speech_shaped_noise.ipynb",
      "provenance": [],
      "collapsed_sections": [],
      "include_colab_link": true
    },
    "kernelspec": {
      "name": "python3",
      "display_name": "Python 3"
    },
    "language_info": {
      "name": "python"
    }
  },
  "cells": [
    {
      "cell_type": "markdown",
      "metadata": {
        "id": "view-in-github",
        "colab_type": "text"
      },
      "source": [
        "<a href=\"https://colab.research.google.com/github/sensein/science4all/blob/main/tutorials/speech/speech_shaped_noise.ipynb\" target=\"_parent\"><img src=\"https://colab.research.google.com/assets/colab-badge.svg\" alt=\"Open In Colab\"/></a>"
      ]
    },
    {
      "cell_type": "markdown",
      "source": [
        "# Speech-shaped noise\n",
        "\n",
        "Noise shaped with speech's amplitude. Impose intensity contour (influenced by syllable rate, phonetic structure). \n",
        "\n",
        "Not recommended to do with single word, because the strongest segment might be the vowel. So the noise will sound like the vowel and its spectrum will look like the vowel's spectrum.\n",
        "\n",
        "Steps:\n",
        "1. Load target audio\n",
        "2. Apply Hilbert transform to extract envelope.\n",
        "3. Create noise to match long term speech spectrum\n",
        "4. Multiply envelope x noise to obtain \n",
        "\n",
        "A `more ideal noise generator` could involve a filterbank approach to the segment the audio and noise into separate channels using filters, extracting the envelope from each filtered response, and using it modulate the filtered noise. Then recombining all the filtered noise channels back into an audio stream.\n",
        "\n",
        "This would be more analogous to how the ear processes sound. Perhaps using something like https://librosa.org/doc/latest/generated/librosa.feature.melspectrogram.html"
      ],
      "metadata": {
        "id": "P4atPJaVbIKF"
      }
    },
    {
      "cell_type": "code",
      "source": [
        "import os \n",
        "import matplotlib.pyplot as plt\n",
        "import matplotlib.pyplot as plt\n",
        "from IPython.display import display, Audio\n",
        "\n",
        "import numpy as np\n",
        "from scipy import signal\n",
        "from scipy.io import wavfile"
      ],
      "metadata": {
        "id": "iT95Xcbhc22K"
      },
      "execution_count": null,
      "outputs": []
    },
    {
      "cell_type": "code",
      "source": [
        "from google.colab import drive\n",
        "# Get access to Google Drive and attach it to the colab for data I/O. Follow instructions:\n",
        "drive.mount('/content/drive')"
      ],
      "metadata": {
        "id": "10emGJz2dPzI"
      },
      "execution_count": null,
      "outputs": []
    },
    {
      "cell_type": "code",
      "source": [
        "# figure config\n",
        "plt.rcParams['figure.figsize'] = [12, 2]\n",
        "plt.rcParams['figure.dpi'] = 120"
      ],
      "metadata": {
        "id": "bTl8IuPclQBK"
      },
      "execution_count": null,
      "outputs": []
    },
    {
      "cell_type": "code",
      "source": [
        "def speech_shaped_noise(path_to_wav,\n",
        "                        scale_envelope = True, \n",
        "                        filter_envelope=True, \n",
        "                        gen_figures=True, \n",
        "                        play_audio=True,\n",
        "                        save_audio=False, \n",
        "                        output_path=None):\n",
        "    # signal\n",
        "    print('\\n\\n====='+path_to_wav)\n",
        "    sr, data = wavfile.read(path_to_wav)\n",
        "    print('samplig rate: ',sr)\n",
        "    data = data [:,0].flatten() #extract single channel\n",
        "    duration = len(data)/sr\n",
        "    time = np.arange(0,duration,1/sr) #time vector\n",
        "    if gen_figures:\n",
        "        plt.plot(time,data)\n",
        "        plt.xlabel('Time [s]')\n",
        "        plt.ylabel('Amplitude')\n",
        "        plt.title(path_to_wav)\n",
        "        plt.show()\n",
        "    if play_audio:\n",
        "        display(Audio(data=data, rate=sr, autoplay=False))\n",
        "  \n",
        "    # Envelope: extract amplitude envelope through Hilbert transform https://docs.scipy.org/doc/scipy/reference/generated/scipy.signal.hilbert.html\n",
        "    analytic_signal = signal.hilbert(data)\n",
        "    amplitude_envelope = np.abs(analytic_signal)\n",
        "    if filter_envelope: # to capture slower speech rate frequencies instead of pitch period\n",
        "        sos = signal.butter(20, 50, 'lp', fs=sr, output='sos')\n",
        "        amplitude_envelope = signal.sosfiltfilt(sos, amplitude_envelope)\n",
        "    amplitude_envelope_before_scaling = amplitude_envelope.copy()\n",
        "    if scale_envelope:\n",
        "        amplitude_envelope = amplitude_envelope / np.max(amplitude_envelope) #scaler.fit_transform(amplitude_envelope.reshape((-1, 1))).flatten()\n",
        "    if gen_figures:\n",
        "        t = np.arange(len(data)) / sr\n",
        "        plt.plot(t, data, label='signal')\n",
        "        plt.plot(t, amplitude_envelope_before_scaling, label='filtered envelope unscaled', c='orange',linestyle='dashed', alpha=0.5)\n",
        "        plt.xlabel(\"time in seconds\")\n",
        "        plt.legend()\n",
        "        plt.xlim((0.3,2))\n",
        "        plt.title('Signal and amplitude envelope through Hilbert transform\\nNote: envelope is later scaled to (0,1)')\n",
        "        plt.show()\n",
        "  \n",
        "    # Noise: generate if noise == None, else load noise from argument\n",
        "    print('generating noise...')\n",
        "    num_samples = len(data)\n",
        "    noise = 2 * np.random.rand(num_samples) - 1\n",
        "    # ensure the signal is bandlimited to Nyquist\n",
        "    sos = signal.butter(10, 0.95*sr/2, 'lp', fs=sr, output='sos')\n",
        "    noise = signal.sosfiltfilt(sos, noise)\n",
        "    noise = np.real(np.fft.ifft(np.abs(np.fft.fft(data)) * np.fft.fft(noise)))\n",
        "    print(np.percentile(np.abs(noise), 98), np.percentile(np.abs(data), 98))\n",
        "    noise = noise / np.percentile(np.abs(noise), 98) * np.percentile(np.abs(data), 98)\n",
        "    if gen_figures:\n",
        "        plt.plot(noise)\n",
        "        plt.title('Speech noise:(zoomed in, 30 sec total)')\n",
        "        plt.show()\n",
        "\n",
        "    if play_audio:\n",
        "        display(Audio(data=noise, rate=sr, autoplay=False))\n",
        "  \n",
        "    # Speech shaped noise\n",
        "    speech_shaped_noise = noise * amplitude_envelope\n",
        "    print(noise.shape, amplitude_envelope_before_scaling.shape, amplitude_envelope.shape, data.shape, speech_shaped_noise.shape)\n",
        "    print(np.max(noise), np.max(amplitude_envelope_before_scaling), np.max(amplitude_envelope), np.max(data), np.max(speech_shaped_noise))\n",
        "\n",
        "    if gen_figures:\n",
        "        plt.plot(speech_shaped_noise)\n",
        "        plt.plot(data, 'r', alpha=0.5)\n",
        "        #plt.plot(amplitude_envelope_before_scaling, label='filtered envelope unscaled', c='orange',linestyle='dashed', alpha=0.5)\n",
        "        plt.title('Speech-shaped noise')\n",
        "        plt.show()\n",
        "    display(Audio(data=speech_shaped_noise, rate=sr, autoplay=False))\n",
        "    if save_audio:\n",
        "        wavfile.write(output_path+\".wav\",sr, speech_shaped_noise.astype(np.int16))\n",
        "\n",
        "    if gen_figures:\n",
        "        # Plot Speech spectrum\n",
        "        start =-100\n",
        "        end=100\n",
        "        plt.magnitude_spectrum(data, Fs=sr, scale='dB', color='C1')\n",
        "        plt.title(\"Log. Magnitude Spectrum - Speech\")\n",
        "        # plt.ylim(start,end) \n",
        "        plt.xlim(0,6000) \n",
        "        plt.show()\n",
        "\n",
        "        # Plot Speech spectrum\n",
        "        plt.magnitude_spectrum(noise, Fs=sr, scale='dB', color='C1')\n",
        "        plt.title(\"Log. Magnitude Spectrum - Noise\")\n",
        "        # plt.ylim(start,end) \n",
        "        plt.xlim(0,6000) \n",
        "        plt.show()\n",
        "        \n",
        "        # Plot Speech-shaped noise spectrum\n",
        "        plt.magnitude_spectrum(speech_shaped_noise, Fs=sr, scale='dB', color='C1')\n",
        "        plt.title(\"Log. Magnitude Spectrum - Speech-shaped noise\")\n",
        "        # plt.ylim(start,end) \n",
        "        plt.xlim(0,6000)\n",
        "        plt.show()"
      ],
      "metadata": {
        "id": "qzeG5DO7bbpp"
      },
      "execution_count": null,
      "outputs": []
    },
    {
      "cell_type": "code",
      "source": [
        "speech_shaped_noise('/content/drive/My Drive/datum/umass/stimuli/TR_04_OwlBabies Clip.wav',\n",
        "                    scale_envelope = True, \n",
        "                    filter_envelope = True, \n",
        "                    gen_figures=True, \n",
        "                    play_audio=True, \n",
        "                    save_audio=False, \n",
        "                    )"
      ],
      "metadata": {
        "id": "K9_c4_YYkOSp"
      },
      "execution_count": null,
      "outputs": []
    },
    {
      "cell_type": "code",
      "source": [
        "# Make speech-shaped noise from target audio recording\n",
        "input_dir='/content/drive/My Drive/datum/umass/stimuli/' #CHANGE TO YOUR PATH\n",
        "output_dir='/content/drive/My Drive/datum/umass/speech_shaped_noise/' #CHANGE TO YOUR PATH\n",
        "\n",
        "os.makedirs(output_dir, exist_ok=True)\n",
        "\n",
        "wav_files = os.listdir(input_dir) #for now: ['TR_04_OwlBabies Clip.wav']\n",
        "\n",
        "for wav_file in wav_files:\n",
        "    print(wav_file)\n",
        "    speech_shaped_noise(input_dir+wav_file, \n",
        "                      scale_envelope = True, \n",
        "                      filter_envelope = True,\n",
        "                      gen_figures=False, \n",
        "                      play_audio=False, \n",
        "                      save_audio=True, \n",
        "                      output_path = output_dir+wav_file[:-4]\n",
        "                      )"
      ],
      "metadata": {
        "id": "jWhAYedmoTZN"
      },
      "execution_count": null,
      "outputs": []
    },
    {
      "cell_type": "code",
      "source": [
        ""
      ],
      "metadata": {
        "id": "hfRG-BkCpjG5"
      },
      "execution_count": null,
      "outputs": []
    }
  ]
}